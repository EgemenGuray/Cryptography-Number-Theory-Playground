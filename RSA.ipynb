{
 "cells": [
  {
   "cell_type": "code",
   "execution_count": 1,
   "metadata": {},
   "outputs": [],
   "source": [
    "def gcd(a,h):\n",
    "    temp = 0\n",
    "    while True:\n",
    "        temp = a % h\n",
    "        if temp == 0:\n",
    "            return h\n",
    "        a = h\n",
    "        h = temp\n",
    "    return a\n",
    "\n",
    "def get_d(e, phi):\n",
    "    # d -> ed = 1(mod phi)        ; 1 < d < phi\n",
    "    d = 2\n",
    "    while d < phi:\n",
    "        # check if this is the required `d` value\n",
    "        #print(phi,e,d)\n",
    "        if ((d*e) % phi)==1:\n",
    "            return d\n",
    "        # else : increment and continue\n",
    "        d += 1\n",
    "\n",
    "\n",
    "def encrypt(m, p = 97, q= 107, e = 37):\n",
    "    n = p * q\n",
    "    print('n is ', n)\n",
    "    phi = (p-1)*(q-1)\n",
    "    print('Φ (n) is ', phi)\n",
    "            \n",
    "    d = get_d(e,phi)\n",
    "    print('d is ', d)\n",
    "    c = ( m ^ e ) % n\n",
    "    return c\n",
    "\n",
    "def decrypt(c, p = 97, q= 107, e = 37):\n",
    "    n = p * q\n",
    "    print('n is ', n)\n",
    "    phi = (p-1)*(q-1)\n",
    "    print('Φ (n) is ', phi)\n",
    "            \n",
    "    d = get_d(e,phi)\n",
    "    print('d is ', d)\n",
    "    m = (c ^ d) % n\n",
    "    \n",
    "    return m\n",
    "    \n",
    "  "
   ]
  },
  {
   "cell_type": "code",
   "execution_count": 2,
   "metadata": {},
   "outputs": [
    {
     "name": "stdout",
     "output_type": "stream",
     "text": [
      "n is  10379\n",
      "Φ (n) is  10176\n",
      "d is  9901\n"
     ]
    },
    {
     "data": {
      "text/plain": [
       "2002"
      ]
     },
     "execution_count": 2,
     "metadata": {},
     "output_type": "execute_result"
    }
   ],
   "source": [
    "encrypt(2039)"
   ]
  },
  {
   "cell_type": "code",
   "execution_count": 3,
   "metadata": {},
   "outputs": [
    {
     "name": "stdout",
     "output_type": "stream",
     "text": [
      "n is  10379\n",
      "Φ (n) is  10176\n",
      "d is  9901\n"
     ]
    },
    {
     "data": {
      "text/plain": [
       "1956"
      ]
     },
     "execution_count": 3,
     "metadata": {},
     "output_type": "execute_result"
    }
   ],
   "source": [
    "decrypt(8457)"
   ]
  },
  {
   "cell_type": "code",
   "execution_count": null,
   "metadata": {},
   "outputs": [],
   "source": []
  }
 ],
 "metadata": {
  "kernelspec": {
   "display_name": "Python 3",
   "language": "python",
   "name": "python3"
  },
  "language_info": {
   "codemirror_mode": {
    "name": "ipython",
    "version": 3
   },
   "file_extension": ".py",
   "mimetype": "text/x-python",
   "name": "python",
   "nbconvert_exporter": "python",
   "pygments_lexer": "ipython3",
   "version": "3.6.8"
  }
 },
 "nbformat": 4,
 "nbformat_minor": 2
}
