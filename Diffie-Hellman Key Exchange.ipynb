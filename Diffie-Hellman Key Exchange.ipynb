{
 "cells": [
  {
   "cell_type": "code",
   "execution_count": 1,
   "metadata": {},
   "outputs": [],
   "source": [
    "def dk(p=113, g=3, kA=43, kB=51):\n",
    "    \n",
    "\n",
    "    # A Sends A = g^ka mod p\n",
    "    A = (g**kA) % p\n",
    "    print(A, '=', g, '^ '+str(kA), 'mod', p)\n",
    "    print( \"A Sends: \", A )\n",
    "    print('')\n",
    "    # B Sends B = g^kb mod p\n",
    "    B = (g**kB) % p\n",
    "    print(B, '=', g, '^ '+str(kB), 'mod', p)\n",
    "    print( \"B Sends: \", B )\n",
    "    print('')\n",
    "    # A Computes Shared Secret: aS = B^ka mod p\n",
    "    aS = (B ** kA) % p\n",
    "    print(aS, '=', B, '^ '+str(kB), 'mod', p)\n",
    "    print( \"A Shared Secret: \", aS )\n",
    "    print('')\n",
    "    # Bob Computes Shared Secret: bS = A^kb mod p\n",
    "    bS = (A ** kB) % p\n",
    "    print(bS, '=', A, '^ '+str(kB), 'mod', p)\n",
    "    print( \"B Shared Secret: \", bS )\n",
    "    print('')\n"
   ]
  },
  {
   "cell_type": "code",
   "execution_count": 2,
   "metadata": {},
   "outputs": [
    {
     "name": "stdout",
     "output_type": "stream",
     "text": [
      "94 = 3 ^ 43 mod 113\n",
      "A Sends:  94\n",
      "\n",
      "93 = 3 ^ 51 mod 113\n",
      "B Sends:  93\n",
      "\n",
      "92 = 93 ^ 51 mod 113\n",
      "A Shared Secret:  92\n",
      "\n",
      "92 = 94 ^ 51 mod 113\n",
      "B Shared Secret:  92\n",
      "\n"
     ]
    }
   ],
   "source": [
    "dk()"
   ]
  },
  {
   "cell_type": "code",
   "execution_count": null,
   "metadata": {},
   "outputs": [],
   "source": []
  }
 ],
 "metadata": {
  "kernelspec": {
   "display_name": "Python 3",
   "language": "python",
   "name": "python3"
  },
  "language_info": {
   "codemirror_mode": {
    "name": "ipython",
    "version": 3
   },
   "file_extension": ".py",
   "mimetype": "text/x-python",
   "name": "python",
   "nbconvert_exporter": "python",
   "pygments_lexer": "ipython3",
   "version": "3.6.8"
  }
 },
 "nbformat": 4,
 "nbformat_minor": 2
}
